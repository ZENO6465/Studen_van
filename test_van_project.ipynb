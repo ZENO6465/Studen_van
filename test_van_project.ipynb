{
 "cells": [
  {
   "cell_type": "code",
   "execution_count": 4,
   "id": "da9ca91d-3835-4d01-9142-5172453777bc",
   "metadata": {},
   "outputs": [
    {
     "name": "stdout",
     "output_type": "stream",
     "text": [
      "^C\n",
      "Note: you may need to restart the kernel to use updated packages.\n"
     ]
    }
   ],
   "source": [
    "pip install face_recognition"
   ]
  },
  {
   "cell_type": "code",
   "execution_count": 43,
   "id": "ad470aa2-05d7-4d6a-b35d-66bb98cd3ea7",
   "metadata": {},
   "outputs": [
    {
     "name": "stdout",
     "output_type": "stream",
     "text": [
      "บันทึกภาพใบหน้าในโฟลเดอร์: C:\\xampp\\htdocs\\log_studen_van\\capture_img\\captured_20241112_132209.jpg\n",
      "บันทึกภาพใบหน้าในโฟลเดอร์: C:\\xampp\\htdocs\\log_studen_van\\capture_img\\captured_20241112_132214.jpg\n",
      "บันทึกภาพใบหน้าในโฟลเดอร์: C:\\xampp\\htdocs\\log_studen_van\\capture_img\\captured_20241112_132219.jpg\n",
      "Stopped by User\n"
     ]
    }
   ],
   "source": [
    "import cv2\n",
    "import os\n",
    "import datetime\n",
    "import time\n",
    "\n",
    "# กำหนดโฟลเดอร์สำหรับบันทึกภาพที่แค็ปมาจากกล้อง\n",
    "capture_folder = r\"C:\\xampp\\htdocs\\log_studen_van\\capture_img\"\n",
    "if not os.path.exists(capture_folder):\n",
    "    os.makedirs(capture_folder)\n",
    "\n",
    "# กำหนดโซนการตรวจจับใบหน้า\n",
    "zone_x, zone_y, zone_w, zone_h = 100, 100, 400, 300  # ปรับขนาดและตำแหน่งตามที่ต้องการ\n",
    "\n",
    "# โหลด Haar Cascade สำหรับตรวจจับใบหน้า\n",
    "face_cascade = cv2.CascadeClassifier(cv2.data.haarcascades + 'haarcascade_frontalface_default.xml')\n",
    "\n",
    "# เปิดกล้อง\n",
    "cap = cv2.VideoCapture(0)\n",
    "\n",
    "# กำหนดเวลาคูลดาวน์ (5 วินาที)\n",
    "cooldown_time = 5\n",
    "last_capture_time = 0  # เก็บเวลาการตรวจจับครั้งล่าสุด\n",
    "\n",
    "try:\n",
    "    while True:\n",
    "        ret, frame = cap.read()\n",
    "        if not ret:\n",
    "            break\n",
    "\n",
    "        # ตรวจสอบเวลาปัจจุบัน\n",
    "        current_time = time.time()\n",
    "\n",
    "        # วาดกรอบโซนการตรวจจับ (ทำงานตลอดเวลา)\n",
    "        cv2.rectangle(frame, (zone_x, zone_y), (zone_x + zone_w, zone_y + zone_h), (0, 255, 0), 2)\n",
    "\n",
    "        # แปลงเป็นสี Grayscale เพื่อให้ตรวจจับใบหน้าได้ง่ายขึ้น\n",
    "        gray = cv2.cvtColor(frame, cv2.COLOR_BGR2GRAY)\n",
    "\n",
    "        # ตรวจจับใบหน้า\n",
    "        faces = face_cascade.detectMultiScale(gray, scaleFactor=1.1, minNeighbors=5, minSize=(30, 30))\n",
    "\n",
    "        for (x, y, w, h) in faces:\n",
    "            # ตรวจสอบว่าใบหน้าอยู่ภายในโซนการตรวจจับหรือไม่ (ทำงานตลอดเวลา)\n",
    "            if x > zone_x and (x + w) < (zone_x + zone_w) and y > zone_y and (y + h) < (zone_y + zone_h):\n",
    "                # แสดงกรอบรอบใบหน้าในภาพหลัก\n",
    "                cv2.rectangle(frame, (x, y), (x + w, y + h), (255, 0, 0), 2)\n",
    "\n",
    "                # ตรวจสอบว่าเวลาปัจจุบันห่างจากเวลาครั้งล่าสุดเกินกว่าคูลดาวน์หรือไม่ เพื่อทำการแคปภาพ\n",
    "                if current_time - last_capture_time >= cooldown_time:\n",
    "                    # แค็ปใบหน้าในกรอบที่ตรวจพบ\n",
    "                    face_img = frame[y:y+h, x:x+w]\n",
    "\n",
    "                    # สร้างชื่อไฟล์สำหรับบันทึกภาพใบหน้า\n",
    "                    timestamp = datetime.datetime.now().strftime(\"%Y%m%d_%H%M%S\")\n",
    "                    filename = os.path.join(capture_folder, f\"captured_{timestamp}.jpg\")\n",
    "\n",
    "                    # บันทึกภาพใบหน้าลงในโฟลเดอร์\n",
    "                    cv2.imwrite(filename, face_img)\n",
    "                    print(f\"บันทึกภาพใบหน้าในโฟลเดอร์: {filename}\")\n",
    "\n",
    "                    # อัปเดตเวลาการตรวจจับครั้งล่าสุด\n",
    "                    last_capture_time = current_time\n",
    "\n",
    "        # แสดงผลจากกล้อง\n",
    "        cv2.imshow('Face Detection and Capture', frame)\n",
    "\n",
    "        # กด 'q' เพื่อออกจากลูป\n",
    "        if cv2.waitKey(1) & 0xFF == ord('q'):\n",
    "            break\n",
    "\n",
    "except KeyboardInterrupt:\n",
    "    print(\"Stopped by User\")\n",
    "\n",
    "# ปิดกล้อง\n",
    "cap.release()\n",
    "cv2.destroyAllWindows()\n"
   ]
  },
  {
   "cell_type": "code",
   "execution_count": null,
   "id": "b90b91d2-01d5-45ee-8d55-6213b072e875",
   "metadata": {},
   "outputs": [],
   "source": []
  }
 ],
 "metadata": {
  "kernelspec": {
   "display_name": "Python 3 (ipykernel)",
   "language": "python",
   "name": "python3"
  },
  "language_info": {
   "codemirror_mode": {
    "name": "ipython",
    "version": 3
   },
   "file_extension": ".py",
   "mimetype": "text/x-python",
   "name": "python",
   "nbconvert_exporter": "python",
   "pygments_lexer": "ipython3",
   "version": "3.12.4"
  }
 },
 "nbformat": 4,
 "nbformat_minor": 5
}
